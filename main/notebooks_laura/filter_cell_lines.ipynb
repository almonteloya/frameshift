{
 "cells": [
  {
   "cell_type": "code",
   "execution_count": 1,
   "id": "9cff0480-dd7d-41c7-beb7-42d66cf4e4fd",
   "metadata": {},
   "outputs": [
    {
     "name": "stdout",
     "output_type": "stream",
     "text": [
      "Processing plate3_filt_Vevo_Tahoe100M_WServicesFrom_ParseGigalab.h5ad...\n",
      "Saved subset to /home/ubuntu/frameshift-1/data/filtered_h5ad_allcellines/subset_plate3_filt_Vevo_Tahoe100M_WServicesFrom_ParseGigalab.h5ad\n",
      "Processing plate7_filt_Vevo_Tahoe100M_WServicesFrom_ParseGigalab.h5ad...\n",
      "Processing plate9_filt_Vevo_Tahoe100M_WServicesFrom_ParseGigalab.h5ad...\n",
      "Saved subset to /home/ubuntu/frameshift-1/data/filtered_h5ad_allcellines/subset_plate9_filt_Vevo_Tahoe100M_WServicesFrom_ParseGigalab.h5ad\n",
      "Processing plate1_filt_Vevo_Tahoe100M_WServicesFrom_ParseGigalab.h5ad...\n",
      "Processing plate5_filt_Vevo_Tahoe100M_WServicesFrom_ParseGigalab.h5ad...\n",
      "Processing plate4_filt_Vevo_Tahoe100M_WServicesFrom_ParseGigalab.h5ad...\n",
      "Processing plate14_filt_Vevo_Tahoe100M_WServicesFrom_ParseGigalab.h5ad...\n",
      "Saved subset to /home/ubuntu/frameshift-1/data/filtered_h5ad_allcellines/subset_plate14_filt_Vevo_Tahoe100M_WServicesFrom_ParseGigalab.h5ad\n",
      "Processing plate6_filt_Vevo_Tahoe100M_WServicesFrom_ParseGigalab.h5ad...\n",
      "Saved subset to /home/ubuntu/frameshift-1/data/filtered_h5ad_allcellines/subset_plate6_filt_Vevo_Tahoe100M_WServicesFrom_ParseGigalab.h5ad\n",
      "Processing plate8_filt_Vevo_Tahoe100M_WServicesFrom_ParseGigalab.h5ad...\n",
      "Processing plate11_filt_Vevo_Tahoe100M_WServicesFrom_ParseGigalab.h5ad...\n",
      "Processing plate13_filt_Vevo_Tahoe100M_WServicesFrom_ParseGigalab.h5ad...\n",
      "Processing plate2_filt_Vevo_Tahoe100M_WServicesFrom_ParseGigalab.h5ad...\n",
      "Processing plate10_filt_Vevo_Tahoe100M_WServicesFrom_ParseGigalab.h5ad...\n",
      "Processing plate12_filt_Vevo_Tahoe100M_WServicesFrom_ParseGigalab.h5ad...\n"
     ]
    }
   ],
   "source": [
    "## Filter Tahoe 100M for specific drugs and doses\n",
    "## Save each plate in a filtered folder"
   ]
  },
  {
   "cell_type": "code",
   "execution_count": null,
   "id": "f2ec7d73-4808-42c3-8c89-f5668d149789",
   "metadata": {},
   "outputs": [],
   "source": [
    "import os \n",
    "import anndata as ad\n",
    "\n",
    "data_folder = \"/home/ubuntu/frameshift-1/data/h5ad/\"\n",
    "output_folder = \"/home/ubuntu/frameshift-1/data/filtered_h5ad_allcellines/\"\n",
    "\n",
    "# Make sure the output folder exists\n",
    "os.makedirs(output_folder, exist_ok=True)\n",
    "\n",
    "#cell_picked = ['NCI-H661', 'SW 1271', 'HOP62', 'NCI-H23', 'A549', 'SHP-77']\n",
    "picked_drugs = [\"[('Adagrasib', 5.0, 'uM')]\",\n",
    "                \"[('Celecoxib', 5.0, 'uM')]\",\n",
    "                \"[('Dinaciclib', 5.0, 'uM')]\",\n",
    "                \"[('Homoharringtonine', 5.0, 'uM')]\",\n",
    "                \"[('RMC-6236', 5.0, 'uM')]\"]\n",
    "DMSO = [\"[('DMSO_TF', 0.0, 'uM')]\"]\n",
    "\n",
    "# Iterate over each file in the directory\n",
    "for file_name in os.listdir(data_folder):\n",
    "    if file_name.endswith(\".h5ad\"):\n",
    "        file_path = os.path.join(data_folder, file_name)\n",
    "        print(f\"Processing {file_name}...\")\n",
    "\n",
    "        # Read in backed mode\n",
    "        adata = ad.read_h5ad(file_path, backed='r')\n",
    "\n",
    "        # Create subset --- important: we want to keep DMSO only if we find the drug of interest\n",
    "        if adata.obs['drugname_drugconc'].isin(picked_drugs).any():\n",
    "            subset_mask = (adata.obs['drugname_drugconc'].isin(picked_drugs) | adata.obs['drugname_drugconc'].isin(DMSO))\n",
    "            adata_subset = adata[subset_mask, :].to_memory()  # Load into memory to save\n",
    "            # Save new file\n",
    "            output_path = os.path.join(output_folder, f\"subset_{file_name}\")\n",
    "            adata_subset.write(output_path)\n",
    "\n",
    "            print(f\"Saved subset to {output_path}\")"
   ]
  },
  {
   "cell_type": "code",
   "execution_count": null,
   "id": "bd02c3e1-a794-4182-b0ee-cd414dad0b58",
   "metadata": {},
   "outputs": [],
   "source": []
  }
 ],
 "metadata": {
  "kernelspec": {
   "display_name": "base",
   "language": "python",
   "name": "base"
  },
  "language_info": {
   "codemirror_mode": {
    "name": "ipython",
    "version": 3
   },
   "file_extension": ".py",
   "mimetype": "text/x-python",
   "name": "python",
   "nbconvert_exporter": "python",
   "pygments_lexer": "ipython3",
   "version": "3.12.9"
  }
 },
 "nbformat": 4,
 "nbformat_minor": 5
}
