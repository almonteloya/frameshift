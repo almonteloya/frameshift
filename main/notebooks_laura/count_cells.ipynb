{
 "cells": [
  {
   "cell_type": "code",
   "execution_count": 1,
   "id": "6dff8c44-e447-4ba7-a5f8-db818d683bf5",
   "metadata": {},
   "outputs": [],
   "source": [
    "import os\n",
    "import scanpy as sc\n",
    "\n",
    "def count_cells_in_file(file_path):\n",
    "    try:\n",
    "        adata = sc.read_h5ad(file_path)\n",
    "        return adata.n_obs  # Number of cells (observations) in the AnnData object\n",
    "    except Exception as e:\n",
    "        print(f\"Error reading {file_path}: {e}\")\n",
    "        return 0\n",
    "\n",
    "def get_number_of_cells(directory_path):\n",
    "    total_cells = 0\n",
    "    for filename in os.listdir(directory_path):\n",
    "        if filename.endswith(\".h5ad\"):\n",
    "            file_path = os.path.join(directory_path, filename)\n",
    "            total_cells += count_cells_in_file(file_path)\n",
    "    return total_cells\n",
    "\n"
   ]
  },
  {
   "cell_type": "code",
   "execution_count": 4,
   "id": "900c7976-96e8-4c30-8eca-527d5f291140",
   "metadata": {},
   "outputs": [],
   "source": [
    "# Specify the directory containing the .h5ad files\n",
    "directory_path = '/home/ubuntu/frameshift-1/data/filtered_h5ad_allcellines/'\n",
    "\n",
    "# Get the number of cells\n",
    "number_of_cells = get_number_of_cells(directory_path)\n",
    "print(f\"Total number of cells: {number_of_cells}\")"
   ]
  },
  {
   "cell_type": "code",
   "execution_count": null,
   "id": "204032eb-ad8f-4317-a70f-6a4d5f2bc6e8",
   "metadata": {},
   "outputs": [],
   "source": []
  },
  {
   "cell_type": "code",
   "execution_count": null,
   "id": "bf49ac91-f225-4c7d-8a0a-507279a85f20",
   "metadata": {},
   "outputs": [],
   "source": []
  }
 ],
 "metadata": {
  "kernelspec": {
   "display_name": "base",
   "language": "python",
   "name": "base"
  },
  "language_info": {
   "codemirror_mode": {
    "name": "ipython",
    "version": 3
   },
   "file_extension": ".py",
   "mimetype": "text/x-python",
   "name": "python",
   "nbconvert_exporter": "python",
   "pygments_lexer": "ipython3",
   "version": "3.12.9"
  }
 },
 "nbformat": 4,
 "nbformat_minor": 5
}
