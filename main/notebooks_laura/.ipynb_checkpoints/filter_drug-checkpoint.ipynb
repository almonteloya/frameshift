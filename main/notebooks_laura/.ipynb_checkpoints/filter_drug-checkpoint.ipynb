{
 "cells": [
  {
   "cell_type": "code",
   "execution_count": 4,
   "id": "6d2eb199-c2bb-4714-ae4d-43dda9535b29",
   "metadata": {},
   "outputs": [
    {
     "name": "stdout",
     "output_type": "stream",
     "text": [
      "Processing plate3_filt_Vevo_Tahoe100M_WServicesFrom_ParseGigalab.h5ad...\n",
      "Saved subset to /home/ubuntu/frameshift-1/data/filtered_h5ad/subset_plate3_filt_Vevo_Tahoe100M_WServicesFrom_ParseGigalab.h5ad\n",
      "Processing plate7_filt_Vevo_Tahoe100M_WServicesFrom_ParseGigalab.h5ad...\n",
      "Processing plate9_filt_Vevo_Tahoe100M_WServicesFrom_ParseGigalab.h5ad...\n",
      "Saved subset to /home/ubuntu/frameshift-1/data/filtered_h5ad/subset_plate9_filt_Vevo_Tahoe100M_WServicesFrom_ParseGigalab.h5ad\n",
      "Processing plate1_filt_Vevo_Tahoe100M_WServicesFrom_ParseGigalab.h5ad...\n",
      "Processing plate5_filt_Vevo_Tahoe100M_WServicesFrom_ParseGigalab.h5ad...\n",
      "Processing plate4_filt_Vevo_Tahoe100M_WServicesFrom_ParseGigalab.h5ad...\n",
      "Processing plate14_filt_Vevo_Tahoe100M_WServicesFrom_ParseGigalab.h5ad...\n",
      "Saved subset to /home/ubuntu/frameshift-1/data/filtered_h5ad/subset_plate14_filt_Vevo_Tahoe100M_WServicesFrom_ParseGigalab.h5ad\n",
      "Processing plate6_filt_Vevo_Tahoe100M_WServicesFrom_ParseGigalab.h5ad...\n",
      "Saved subset to /home/ubuntu/frameshift-1/data/filtered_h5ad/subset_plate6_filt_Vevo_Tahoe100M_WServicesFrom_ParseGigalab.h5ad\n",
      "Processing plate8_filt_Vevo_Tahoe100M_WServicesFrom_ParseGigalab.h5ad...\n",
      "Processing plate11_filt_Vevo_Tahoe100M_WServicesFrom_ParseGigalab.h5ad...\n",
      "Processing plate13_filt_Vevo_Tahoe100M_WServicesFrom_ParseGigalab.h5ad...\n",
      "Processing plate2_filt_Vevo_Tahoe100M_WServicesFrom_ParseGigalab.h5ad...\n",
      "Processing plate10_filt_Vevo_Tahoe100M_WServicesFrom_ParseGigalab.h5ad...\n",
      "Processing plate12_filt_Vevo_Tahoe100M_WServicesFrom_ParseGigalab.h5ad...\n"
     ]
    }
   ],
   "source": [
    "import os\n",
    "import anndata as ad\n",
    "\n",
    "data_folder = \"/home/ubuntu/frameshift-1/data/h5ad/\"\n",
    "output_folder = \"/home/ubuntu/frameshift-1/data/filtered_h5ad/\"\n",
    "\n",
    "# Make sure the output folder exists\n",
    "os.makedirs(output_folder, exist_ok=True)\n",
    "\n",
    "cell_picked = ['NCI-H661', 'SW 1271', 'HOP62', 'NCI-H23', 'A549', 'SHP-77']\n",
    "picked_drugs = [\"[('Adagrasib', 5.0, 'uM')]\",\n",
    "                \"[('Celecoxib', 5.0, 'uM')]\",\n",
    "                \"[('Dinaciclib', 5.0, 'uM')]\",\n",
    "                \"[('Homoharringtonine', 5.0, 'uM')]\",\n",
    "                \"[('RMC-6236', 5.0, 'uM')]\"]\n",
    "DMSO = [\"[('DMSO_TF', 0.0, 'uM')]\"]\n",
    "\n",
    "# Iterate over each file in the directory\n",
    "for file_name in os.listdir(data_folder):\n",
    "    if file_name.endswith(\".h5ad\"):\n",
    "        file_path = os.path.join(data_folder, file_name)\n",
    "        print(f\"Processing {file_name}...\")\n",
    "\n",
    "        # Read in backed mode\n",
    "        adata = ad.read_h5ad(file_path, backed='r')\n",
    "\n",
    "        # Create subset\n",
    "        if adata.obs['drugname_drugconc'].isin(picked_drugs).any():\n",
    "            subset_mask = (adata.obs['drugname_drugconc'].isin(picked_drugs) | adata.obs['drugname_drugconc'].isin(DMSO)) & adata.obs['cell_name'].isin(cell_picked)\n",
    "            adata_subset = adata[subset_mask, :].to_memory()  # Load into memory to save\n",
    "\n",
    "            # Save new file\n",
    "            output_path = os.path.join(output_folder, f\"subset_{file_name}\")\n",
    "            adata_subset.write(output_path)\n",
    "\n",
    "            print(f\"Saved subset to {output_path}\")"
   ]
  },
  {
   "cell_type": "code",
   "execution_count": null,
   "id": "2e7fa2d7-32c0-4fcf-b043-b2b1e7406b8d",
   "metadata": {},
   "outputs": [],
   "source": []
  },
  {
   "cell_type": "code",
   "execution_count": null,
   "id": "e3e7b0b1-b8a9-4b7b-a45b-0968f1f9989b",
   "metadata": {},
   "outputs": [],
   "source": []
  }
 ],
 "metadata": {
  "kernelspec": {
   "display_name": "base",
   "language": "python",
   "name": "base"
  },
  "language_info": {
   "codemirror_mode": {
    "name": "ipython",
    "version": 3
   },
   "file_extension": ".py",
   "mimetype": "text/x-python",
   "name": "python",
   "nbconvert_exporter": "python",
   "pygments_lexer": "ipython3",
   "version": "3.12.9"
  }
 },
 "nbformat": 4,
 "nbformat_minor": 5
}
