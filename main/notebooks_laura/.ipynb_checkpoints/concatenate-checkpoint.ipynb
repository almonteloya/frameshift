{
 "cells": [
  {
   "cell_type": "code",
   "execution_count": 3,
   "id": "2ae43dff-1c4d-4dd8-99ea-70dc9959ed7e",
   "metadata": {},
   "outputs": [],
   "source": [
    "## Concatenate filter plates"
   ]
  },
  {
   "cell_type": "code",
   "execution_count": null,
   "id": "8e335283-7527-4d5d-912d-9b837417bc86",
   "metadata": {},
   "outputs": [],
   "source": [
    "import anndata as ad\n",
    "import os\n",
    "\n",
    "# Directory containing your datasets\n",
    "directory = \"/home/ubuntu/frameshift-1/data/filtered_h5ad/\"\n",
    "\n",
    "# List all .h5ad files in the directory\n",
    "file_paths = [os.path.join(directory, file) for file in os.listdir(directory) if file.endswith('.h5ad')]\n"
   ]
  },
  {
   "cell_type": "code",
   "execution_count": 6,
   "id": "3ca7014a-f779-494a-99a3-929918a0fea0",
   "metadata": {},
   "outputs": [],
   "source": [
    "\n",
    "# Initialize with the first dataset\n",
    "adata_combined = ad.read_h5ad(file_paths[0])\n",
    "\n",
    "# Iterate through the remaining datasets and concatenate incrementally\n",
    "for file_path in file_paths[1:]:\n",
    "    adata_next = ad.read_h5ad(file_path)\n",
    "    adata_combined = ad.concat([adata_combined, adata_next], join='outer')\n",
    "\n",
    "# Save the combined AnnData object\n",
    "adata_combined.write('/home/ubuntu/frameshift-1/data/combined_adata.h5ad')"
   ]
  },
  {
   "cell_type": "code",
   "execution_count": null,
   "id": "5bb9f2b7-71fb-4c24-85ae-584cf5107eee",
   "metadata": {},
   "outputs": [],
   "source": []
  }
 ],
 "metadata": {
  "kernelspec": {
   "display_name": "base",
   "language": "python",
   "name": "base"
  },
  "language_info": {
   "codemirror_mode": {
    "name": "ipython",
    "version": 3
   },
   "file_extension": ".py",
   "mimetype": "text/x-python",
   "name": "python",
   "nbconvert_exporter": "python",
   "pygments_lexer": "ipython3",
   "version": "3.12.9"
  }
 },
 "nbformat": 4,
 "nbformat_minor": 5
}
