{
 "cells": [
  {
   "cell_type": "markdown",
   "metadata": {},
   "source": [
    "## Calculation of MSE\n",
    "\n",
    "This notebook serves to calculate MSE across all treatments in Tahoe"
   ]
  },
  {
   "cell_type": "code",
   "execution_count": 3,
   "metadata": {},
   "outputs": [],
   "source": [
    "import scanpy as sc\n",
    "import pertpy as pt\n",
    "import pandas as pd\n",
    "\n",
    "import matplotlib.pyplot as plt\n",
    "import seaborn as sns\n",
    "\n",
    "import numpy as np\n",
    "import pandas as pd\n",
    "import scipy.stats as stats\n",
    "\n",
    "## pseudobulk to cell_line and treatment only\n",
    "from adpbulk import ADPBulk"
   ]
  },
  {
   "cell_type": "code",
   "execution_count": 2,
   "metadata": {},
   "outputs": [
    {
     "data": {
      "text/plain": [
       "AnnData object with n_obs × n_vars = 67018 × 62710\n",
       "    obs: 'sample', 'drugname_drugconc', 'drug', 'n_cells', 'tscp_count', 'plate', 'Cell_Name_Vevo', 'Cell_ID_Cellosaur'\n",
       "    var: 'gene_id', 'genome'"
      ]
     },
     "execution_count": 2,
     "metadata": {},
     "output_type": "execute_result"
    }
   ],
   "source": [
    "pb_path = \"/home/ubuntu/frameshift-1/data/20250213.Tahoe.merged.pseudobulk.public.h5ad\"\n",
    "# adata = sc.read_h5ad(pb_path, backed='r')\n",
    "adata = sc.read_h5ad(pb_path)\n",
    "adata"
   ]
  },
  {
   "cell_type": "code",
   "execution_count": 4,
   "metadata": {},
   "outputs": [
    {
     "name": "stderr",
     "output_type": "stream",
     "text": [
      "fitting indices: Cell_Name_Vevo: 100%|██████████| 50/50 [00:00<00:00, 6225.59it/s]\n",
      "fitting indices: drugname_drugconc: 100%|██████████| 1138/1138 [00:00<00:00, 28497.08it/s]\n",
      "Aggregating Samples: 100%|██████████| 56900/56900 [00:30<00:00, 1863.03it/s]\n"
     ]
    },
    {
     "data": {
      "text/plain": [
       "AnnData object with n_obs × n_vars = 56877 × 62710\n",
       "    obs: 'Cell_Name_Vevo', 'drugname_drugconc'"
      ]
     },
     "execution_count": 4,
     "metadata": {},
     "output_type": "execute_result"
    }
   ],
   "source": [
    "# initialize the object\n",
    "adpb = ADPBulk(adata, [\"Cell_Name_Vevo\", \"drugname_drugconc\"])\n",
    "\n",
    "# perform the pseudobulking\n",
    "pseudobulk_matrix = adpb.fit_transform()\n",
    "\n",
    "# retrieve the sample meta data (useful for easy incorporation with edgeR)\n",
    "sample_meta = adpb.get_meta()\n",
    "\n",
    "pb = sc.AnnData(X=pseudobulk_matrix, obs=sample_meta.set_index('SampleName'))\n",
    "pb"
   ]
  },
  {
   "cell_type": "code",
   "execution_count": 5,
   "metadata": {},
   "outputs": [],
   "source": [
    "sc.pp.normalize_total(pb, target_sum=1e6, exclude_highly_expressed=True)\n",
    "sc.pp.log1p(pb)"
   ]
  },
  {
   "cell_type": "code",
   "execution_count": null,
   "metadata": {},
   "outputs": [],
   "source": [
    "# distance = pt.tl.Distance(\"mse\", groupby)\n",
    "# df = distance.pairwise(adata, groupby=obs_key)"
   ]
  },
  {
   "cell_type": "code",
   "execution_count": 6,
   "metadata": {},
   "outputs": [],
   "source": [
    "mse = {}\n",
    "\n",
    "gp = pb.obs.groupby('Cell_Name_Vevo')\n",
    "\n",
    "control = \"[('DMSO_TF', 0.0, 'uM')]\"\n",
    "for name, group in gp:\n",
    "\tcontrol_idx = group[group['drugname_drugconc'] == control].index\n",
    "\tcontrol_vec = pb[control_idx].X\n",
    "\tif control_vec.shape[0] != 1:\n",
    "\t\tprint(group[group['drugname_drugconc'] == control])\n",
    "\telse:\n",
    "\t\t#get MSE values\n",
    "\t\tdrug_idx = group[group['drugname_drugconc'] != control].index\n",
    "\t\tdrug_vec = pb[drug_idx].X\n",
    "\t\tdrug_names = group.loc[drug_idx, 'drugname_drugconc'].values\n",
    "\t\t#compute MSE\n",
    "\t\tmse_matr = drug_vec - control_vec\n",
    "\t\tmse_matr = np.square(mse_matr)\n",
    "\t\tmse_matr = np.mean(mse_matr, axis=1)\n",
    "\t\tmse[name] = pd.Series(mse_matr, index=drug_names)\n",
    "\n",
    "\n",
    "\t# control_idx = group[group['drugname_drugconc'] == control].index\n",
    "\t# if len(control_idx) == 0:\n",
    "\t# \tcontinue\n",
    "\t# for drug in group['drugname_drugconc'].unique():\n",
    "\t# \tif drug == control:\n",
    "\t# \t\tcontinue\n",
    "\t# \t#compute MSE for all treatments against DMSO\n",
    "\t# \tdrug_idx\n",
    "\n",
    "\t# subdata = adata[group.index]\n",
    "\n",
    "\t# #compute MSE for all treatments against DMSO\n",
    "\t\n",
    "\t# break\n",
    "msedf = pd.DataFrame(mse).T\n",
    "msedf.to_csv(\"/home/ubuntu/frameshift-1/data/MSE.tsv\", sep=\"\\t\", header=True, index=True)\n",
    "msedf.head()"
   ]
  },
  {
   "cell_type": "code",
   "execution_count": null,
   "metadata": {},
   "outputs": [],
   "source": [
    "msedf.median(axis=0).sort_values(ascending=False).head(20)"
   ]
  }
 ],
 "metadata": {
  "kernelspec": {
   "display_name": "base",
   "language": "python",
   "name": "base"
  },
  "language_info": {
   "codemirror_mode": {
    "name": "ipython",
    "version": 3
   },
   "file_extension": ".py",
   "mimetype": "text/x-python",
   "name": "python",
   "nbconvert_exporter": "python",
   "pygments_lexer": "ipython3",
   "version": "3.12.9"
  }
 },
 "nbformat": 4,
 "nbformat_minor": 2
}
