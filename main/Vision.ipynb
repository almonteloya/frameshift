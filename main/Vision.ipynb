{
 "cells": [
  {
   "cell_type": "code",
   "execution_count": 1,
   "metadata": {},
   "outputs": [],
   "source": [
    "import scanpy as sc\n",
    "import pandas as pd"
   ]
  },
  {
   "cell_type": "code",
   "execution_count": 4,
   "metadata": {},
   "outputs": [],
   "source": [
    "vision = sc.read_h5ad('/home/ubuntu/frameshift-1/data/20250417.diff_vision_scores_pseudobulk.public.h5ad', backed='r')\n",
    "\n",
    "idx = vision.obs.index[(vision.obs['concentration'] == 5) & (vision.obs['drug'].isin(picked_drugs))]\n",
    "vis = vision[:, vision.var_names.str.contains('KRAS')].to_memory()\n",
    "vis = vis[idx, :]"
   ]
  },
  {
   "cell_type": "code",
   "execution_count": 22,
   "metadata": {},
   "outputs": [
    {
     "data": {
      "text/html": [
       "<div>\n",
       "<style scoped>\n",
       "    .dataframe tbody tr th:only-of-type {\n",
       "        vertical-align: middle;\n",
       "    }\n",
       "\n",
       "    .dataframe tbody tr th {\n",
       "        vertical-align: top;\n",
       "    }\n",
       "\n",
       "    .dataframe thead th {\n",
       "        text-align: right;\n",
       "    }\n",
       "</style>\n",
       "<table border=\"1\" class=\"dataframe\">\n",
       "  <thead>\n",
       "    <tr style=\"text-align: right;\">\n",
       "      <th></th>\n",
       "      <th>plate</th>\n",
       "      <th>Cell_Name_Vevo</th>\n",
       "      <th>Cell_ID_Cellosaur</th>\n",
       "      <th>drug</th>\n",
       "      <th>concentration</th>\n",
       "      <th>concentration_unit</th>\n",
       "    </tr>\n",
       "  </thead>\n",
       "  <tbody>\n",
       "    <tr>\n",
       "      <th>16556</th>\n",
       "      <td>6</td>\n",
       "      <td>A549</td>\n",
       "      <td>CVCL_0023</td>\n",
       "      <td>Homoharringtonine</td>\n",
       "      <td>5.0</td>\n",
       "      <td>uM</td>\n",
       "    </tr>\n",
       "    <tr>\n",
       "      <th>16557</th>\n",
       "      <td>6</td>\n",
       "      <td>HS-578T</td>\n",
       "      <td>CVCL_0332</td>\n",
       "      <td>Homoharringtonine</td>\n",
       "      <td>5.0</td>\n",
       "      <td>uM</td>\n",
       "    </tr>\n",
       "    <tr>\n",
       "      <th>16558</th>\n",
       "      <td>6</td>\n",
       "      <td>HCT15</td>\n",
       "      <td>CVCL_0292</td>\n",
       "      <td>Homoharringtonine</td>\n",
       "      <td>5.0</td>\n",
       "      <td>uM</td>\n",
       "    </tr>\n",
       "    <tr>\n",
       "      <th>16559</th>\n",
       "      <td>6</td>\n",
       "      <td>HOP62</td>\n",
       "      <td>CVCL_1285</td>\n",
       "      <td>Homoharringtonine</td>\n",
       "      <td>5.0</td>\n",
       "      <td>uM</td>\n",
       "    </tr>\n",
       "    <tr>\n",
       "      <th>16560</th>\n",
       "      <td>6</td>\n",
       "      <td>SK-MEL-2</td>\n",
       "      <td>CVCL_0069</td>\n",
       "      <td>Homoharringtonine</td>\n",
       "      <td>5.0</td>\n",
       "      <td>uM</td>\n",
       "    </tr>\n",
       "    <tr>\n",
       "      <th>...</th>\n",
       "      <td>...</td>\n",
       "      <td>...</td>\n",
       "      <td>...</td>\n",
       "      <td>...</td>\n",
       "      <td>...</td>\n",
       "      <td>...</td>\n",
       "    </tr>\n",
       "    <tr>\n",
       "      <th>55860</th>\n",
       "      <td>3</td>\n",
       "      <td>A-172</td>\n",
       "      <td>CVCL_0131</td>\n",
       "      <td>Celecoxib</td>\n",
       "      <td>5.0</td>\n",
       "      <td>uM</td>\n",
       "    </tr>\n",
       "    <tr>\n",
       "      <th>55861</th>\n",
       "      <td>3</td>\n",
       "      <td>hTERT-HPNE</td>\n",
       "      <td>CVCL_C466</td>\n",
       "      <td>Celecoxib</td>\n",
       "      <td>5.0</td>\n",
       "      <td>uM</td>\n",
       "    </tr>\n",
       "    <tr>\n",
       "      <th>55862</th>\n",
       "      <td>3</td>\n",
       "      <td>NCI-H23</td>\n",
       "      <td>CVCL_1547</td>\n",
       "      <td>Celecoxib</td>\n",
       "      <td>5.0</td>\n",
       "      <td>uM</td>\n",
       "    </tr>\n",
       "    <tr>\n",
       "      <th>55863</th>\n",
       "      <td>3</td>\n",
       "      <td>NCI-H1792</td>\n",
       "      <td>CVCL_1495</td>\n",
       "      <td>Celecoxib</td>\n",
       "      <td>5.0</td>\n",
       "      <td>uM</td>\n",
       "    </tr>\n",
       "    <tr>\n",
       "      <th>55864</th>\n",
       "      <td>3</td>\n",
       "      <td>NCI-H2030</td>\n",
       "      <td>CVCL_1517</td>\n",
       "      <td>Celecoxib</td>\n",
       "      <td>5.0</td>\n",
       "      <td>uM</td>\n",
       "    </tr>\n",
       "  </tbody>\n",
       "</table>\n",
       "<p>268 rows × 6 columns</p>\n",
       "</div>"
      ],
      "text/plain": [
       "       plate Cell_Name_Vevo Cell_ID_Cellosaur               drug  \\\n",
       "16556      6           A549         CVCL_0023  Homoharringtonine   \n",
       "16557      6        HS-578T         CVCL_0332  Homoharringtonine   \n",
       "16558      6          HCT15         CVCL_0292  Homoharringtonine   \n",
       "16559      6          HOP62         CVCL_1285  Homoharringtonine   \n",
       "16560      6       SK-MEL-2         CVCL_0069  Homoharringtonine   \n",
       "...      ...            ...               ...                ...   \n",
       "55860      3          A-172         CVCL_0131          Celecoxib   \n",
       "55861      3     hTERT-HPNE         CVCL_C466          Celecoxib   \n",
       "55862      3        NCI-H23         CVCL_1547          Celecoxib   \n",
       "55863      3      NCI-H1792         CVCL_1495          Celecoxib   \n",
       "55864      3      NCI-H2030         CVCL_1517          Celecoxib   \n",
       "\n",
       "       concentration concentration_unit  \n",
       "16556            5.0                 uM  \n",
       "16557            5.0                 uM  \n",
       "16558            5.0                 uM  \n",
       "16559            5.0                 uM  \n",
       "16560            5.0                 uM  \n",
       "...              ...                ...  \n",
       "55860            5.0                 uM  \n",
       "55861            5.0                 uM  \n",
       "55862            5.0                 uM  \n",
       "55863            5.0                 uM  \n",
       "55864            5.0                 uM  \n",
       "\n",
       "[268 rows x 6 columns]"
      ]
     },
     "execution_count": 22,
     "metadata": {},
     "output_type": "execute_result"
    }
   ],
   "source": []
  },
  {
   "cell_type": "code",
   "execution_count": 10,
   "metadata": {},
   "outputs": [],
   "source": [
    "picked_drugs = ['RMC-6236','Adagrasib','Celecoxib', 'Homoharringtonine', 'Dinaciclib']"
   ]
  },
  {
   "cell_type": "code",
   "execution_count": 20,
   "metadata": {},
   "outputs": [
    {
     "data": {
      "text/plain": [
       "(268, 37)"
      ]
     },
     "execution_count": 20,
     "metadata": {},
     "output_type": "execute_result"
    }
   ],
   "source": [
    "vis.shape"
   ]
  },
  {
   "cell_type": "code",
   "execution_count": 16,
   "metadata": {},
   "outputs": [
    {
     "data": {
      "text/plain": [
       "0        False\n",
       "1        False\n",
       "2        False\n",
       "3        False\n",
       "4        False\n",
       "         ...  \n",
       "60771    False\n",
       "60772    False\n",
       "60773    False\n",
       "60774    False\n",
       "60775    False\n",
       "Length: 60776, dtype: bool"
      ]
     },
     "execution_count": 16,
     "metadata": {},
     "output_type": "execute_result"
    }
   ],
   "source": [
    "idx"
   ]
  },
  {
   "cell_type": "code",
   "execution_count": null,
   "metadata": {},
   "outputs": [],
   "source": []
  }
 ],
 "metadata": {
  "kernelspec": {
   "display_name": "base",
   "language": "python",
   "name": "base"
  },
  "language_info": {
   "codemirror_mode": {
    "name": "ipython",
    "version": 3
   },
   "file_extension": ".py",
   "mimetype": "text/x-python",
   "name": "python",
   "nbconvert_exporter": "python",
   "pygments_lexer": "ipython3",
   "version": "3.12.9"
  }
 },
 "nbformat": 4,
 "nbformat_minor": 2
}
